{
 "cells": [
  {
   "cell_type": "code",
   "execution_count": 6,
   "id": "nearby-virus",
   "metadata": {},
   "outputs": [
    {
     "name": "stdout",
     "output_type": "stream",
     "text": [
      "(1, 2, 3, 4)\n",
      "(1, 2, 4, 3)\n",
      "(1, 3, 2, 4)\n",
      "(1, 3, 4, 2)\n",
      "(1, 4, 2, 3)\n",
      "(1, 4, 3, 2)\n",
      "(2, 1, 3, 4)\n",
      "(2, 1, 4, 3)\n",
      "(2, 3, 1, 4)\n",
      "(2, 3, 4, 1)\n",
      "(2, 4, 1, 3)\n",
      "(2, 4, 3, 1)\n",
      "(3, 1, 2, 4)\n",
      "(3, 1, 4, 2)\n",
      "(3, 2, 1, 4)\n",
      "(3, 2, 4, 1)\n",
      "(3, 4, 1, 2)\n",
      "(3, 4, 2, 1)\n",
      "(4, 1, 2, 3)\n",
      "(4, 1, 3, 2)\n",
      "(4, 2, 1, 3)\n",
      "(4, 2, 3, 1)\n",
      "(4, 3, 1, 2)\n",
      "(4, 3, 2, 1)\n"
     ]
    }
   ],
   "source": [
    "from itertools import permutations\n",
    "items = [1,2,3,4]\n",
    "perms = permutations(items)\n",
    "for i in perms:\n",
    "    print(i)"
   ]
  },
  {
   "cell_type": "code",
   "execution_count": 4,
   "id": "brazilian-buyer",
   "metadata": {},
   "outputs": [
    {
     "name": "stdout",
     "output_type": "stream",
     "text": [
      "Solution found!\n",
      "(1, 1, 2, 1, 3, 2, 2, 3)\n",
      "Found!\n",
      "This took 1427 evaluations\n",
      "Time in seconds: 0.001500844955444336\n"
     ]
    }
   ],
   "source": [
    "import time\n",
    "w = [1,1,1,2,2,2,3,3]\n",
    "B = 4\n",
    "c = 4\n",
    "perm = permutations(w)\n",
    "\n",
    "found = False\n",
    "\n",
    "count_eval = 0\n",
    "time_start = time.time()\n",
    "\n",
    "for p in perm:\n",
    "    box = [c] * B\n",
    "    i = 0\n",
    "    #for every box\n",
    "    for b in range(len(box)):\n",
    "        while True:\n",
    "            count_eval = count_eval + 1\n",
    "            #if the current item fits into the box without it overfilling\n",
    "            if (box[b]-p[i]) >= 0:\n",
    "                #put that item in the box\n",
    "                box[b] = box[b] - p[i]\n",
    "                i = i+1 #increment i, move to the next item\n",
    "                if i >= len(p):\n",
    "                    #if all elements are in boxes, we can stop\n",
    "                    break\n",
    "                #otherwise\n",
    "            else:\n",
    "                #but if the current item can't fit into this box, break\n",
    "                break\n",
    "\n",
    "    if i == len(w) and b <= len(box):\n",
    "        print(\"Solution found!\")\n",
    "        found = True\n",
    "        print(p)\n",
    "        break\n",
    "time_end = time.time()\n",
    "if found:\n",
    "    print(\"Found!\")\n",
    "else:\n",
    "    print(\"Not found!\")\n",
    "\n",
    "print(\"This took \" + str(count_eval) + \" evaluations\")\n",
    "print(\"Time in seconds: \" + str(time_end-time_start))"
   ]
  },
  {
   "cell_type": "code",
   "execution_count": 5,
   "id": "interstate-trinidad",
   "metadata": {},
   "outputs": [
    {
     "name": "stdout",
     "output_type": "stream",
     "text": [
      "1 items 1\n",
      "2 items 2\n",
      "3 items 6\n",
      "4 items 24\n",
      "5 items 120\n",
      "6 items 720\n",
      "7 items 5040\n",
      "8 items 40320\n",
      "9 items 362880\n"
     ]
    },
    {
     "data": {
      "text/plain": [
       "[<matplotlib.lines.Line2D at 0x1c0180a5e0>]"
      ]
     },
     "execution_count": 5,
     "metadata": {},
     "output_type": "execute_result"
    },
    {
     "data": {
      "image/png": "[encoded data removed]",
      "text/plain": [
       "<Figure size 432x288 with 1 Axes>"
      ]
     },
     "metadata": {
      "needs_background": "light"
     },
     "output_type": "display_data"
    }
   ],
   "source": [
    "from matplotlib.pyplot import plot\n",
    "\n",
    "Num_perms = []\n",
    "\n",
    "for n in range(1,10):\n",
    "    item = list(range(n))\n",
    "    perm = list(permutations(item))\n",
    "    N = len(perm)\n",
    "    Num_perms.append(N)\n",
    "    print(str(n) + ' items ' + str(N))\n",
    "\n",
    "plot(Num_perms)"
   ]
  },
  {
   "cell_type": "code",
   "execution_count": null,
   "id": "authentic-television",
   "metadata": {},
   "outputs": [],
   "source": []
  }
 ],
 "metadata": {
  "kernelspec": {
   "display_name": "Python 3",
   "language": "python",
   "name": "python3"
  },
  "language_info": {
   "codemirror_mode": {
    "name": "ipython",
    "version": 3
   },
   "file_extension": ".py",
   "mimetype": "text/x-python",
   "name": "python",
   "nbconvert_exporter": "python",
   "pygments_lexer": "ipython3",
   "version": "3.8.7"
  }
 },
 "nbformat": 4,
 "nbformat_minor": 5
}