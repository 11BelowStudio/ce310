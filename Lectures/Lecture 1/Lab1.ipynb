{
 "cells": [
  {
   "cell_type": "markdown",
   "id": "occupational-bradley",
   "metadata": {},
   "source": [
    "Knapsack Problem"
   ]
  },
  {
   "cell_type": "code",
   "execution_count": 20,
   "id": "relative-concert",
   "metadata": {},
   "outputs": [
    {
     "name": "stdout",
     "output_type": "stream",
     "text": [
      "0\n"
     ]
    }
   ],
   "source": [
    "#crappy solution\n",
    "\n",
    "#from itertools import combinations\n",
    "import itertools\n",
    "import time\n",
    "\n",
    "#define weights (w_i) and values (v_i) for each box and values\n",
    "w_i = [1, 1, 1, 2, 2, 2, 3, 3, 2, 2, 3, 1]\n",
    "v_i = [34,41,32,12,22,5,12,35,33,23,23,13]\n",
    "w_max = 50;\n",
    "v_tot = 0; \n",
    "\n",
    "combs = list(combinations([v_i,w_i],len(v_i)))\n",
    "print(len(combs))\n",
    "\n",
    "time_start = time.time();\n",
    "for i in range(1,len(combs)):\n",
    "    v = 0;\n",
    "    w = 0;\n",
    "    for j in range(len(combs[i])):\n",
    "        v = v + v_i[combs[i][j]]\n",
    "        w = w + w_i[combs[i][j]]\n",
    "    \n",
    "    if (w<= w_max) and (v > v_tot):\n",
    "        v_tot = v\n",
    "        w_tot = w\n",
    "        index = i\n",
    "time_end = time.time();\n",
    "\n",
    "#print stats\n"
   ]
  },
  {
   "cell_type": "code",
   "execution_count": null,
   "id": "republican-helping",
   "metadata": {},
   "outputs": [],
   "source": []
  }
 ],
 "metadata": {
  "kernelspec": {
   "display_name": "Python 3",
   "language": "python",
   "name": "python3"
  },
  "language_info": {
   "codemirror_mode": {
    "name": "ipython",
    "version": 3
   },
   "file_extension": ".py",
   "mimetype": "text/x-python",
   "name": "python",
   "nbconvert_exporter": "python",
   "pygments_lexer": "ipython3",
   "version": "3.8.7"
  }
 },
 "nbformat": 4,
 "nbformat_minor": 5
}
