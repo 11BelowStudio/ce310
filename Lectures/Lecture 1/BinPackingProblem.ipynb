{
 "cells": [
  {
   "cell_type": "markdown",
   "metadata": {},
   "source": [
    "# Bin Packing Problem\n"
   ]
  },
  {
   "cell_type": "markdown",
   "metadata": {},
   "source": [
    "Given are __N__ items of different weights __w(i)__ with __i=1...N__ and __B__ boxes each of capacity __c__. Your task is to develop an algorithm (pseudocode is fine) that assigns each item to a bin such that number of total used bins is minimized. You can assume that all items have weights __w(i) < bin capacity c__."
   ]
  },
  {
   "cell_type": "code",
   "execution_count": 8,
   "metadata": {},
   "outputs": [
    {
     "name": "stdout",
     "output_type": "stream",
     "text": [
      "(1, 2, 3, 4)\n",
      "(1, 2, 4, 3)\n",
      "(1, 3, 2, 4)\n",
      "(1, 3, 4, 2)\n",
      "(1, 4, 2, 3)\n",
      "(1, 4, 3, 2)\n",
      "(2, 1, 3, 4)\n",
      "(2, 1, 4, 3)\n",
      "(2, 3, 1, 4)\n",
      "(2, 3, 4, 1)\n",
      "(2, 4, 1, 3)\n",
      "(2, 4, 3, 1)\n",
      "(3, 1, 2, 4)\n",
      "(3, 1, 4, 2)\n",
      "(3, 2, 1, 4)\n",
      "(3, 2, 4, 1)\n",
      "(3, 4, 1, 2)\n",
      "(3, 4, 2, 1)\n",
      "(4, 1, 2, 3)\n",
      "(4, 1, 3, 2)\n",
      "(4, 2, 1, 3)\n",
      "(4, 2, 3, 1)\n",
      "(4, 3, 1, 2)\n",
      "(4, 3, 2, 1)\n"
     ]
    }
   ],
   "source": [
    "# permutatins using library function\n",
    "from itertools import permutations\n",
    "\n",
    "# define a list of item\n",
    "item = [1,2,3,4]\n",
    "\n",
    "# generate permutations\n",
    "perm = permutations(item)\n",
    "\n",
    "# print each permutation\n",
    "for i in list(perm):\n",
    "    print(i)"
   ]
  },
  {
   "cell_type": "code",
   "execution_count": 9,
   "metadata": {},
   "outputs": [
    {
     "name": "stdout",
     "output_type": "stream",
     "text": [
      "Solution found\n",
      "(1, 1, 2, 1, 3, 2, 2, 3)\n",
      "Time in seconds: 0.0005006790161132812\n",
      "Number of operations: 1427\n"
     ]
    }
   ],
   "source": [
    "import time\n",
    "\n",
    "# weigth of each item\n",
    "w = [1,1,1,2,2,2,3,3]\n",
    "\n",
    "# number of bins/boxes B\n",
    "B = 4\n",
    "\n",
    "# ==> try different w and B values and se the impact on the runtime\n",
    "# w = [1,1,1,2,2,2,3,3, 2, 2]\n",
    "#B = 5\n",
    "\n",
    "#w = [1,1,1,2,2,2,3,3, 2, 2, 3, 1]\n",
    "# B = 6\n",
    "\n",
    "c = 4 # capacity of each box\n",
    "perm = permutations(w) # generate the permutation\n",
    "\n",
    "time_start = time.time() # store the current time\n",
    "count_eval = 0 # count the number of evaulations/operations\n",
    "\n",
    "\n",
    "for p in perm: # foe arch permutation p\n",
    "#    print(p)\n",
    "    box = [c]*B # create array that stores how much weigth is available in each box \n",
    "    i = 0 # start with the first item\n",
    "    for b in range(len(box)): # for each box\n",
    "        while True:\n",
    "            count_eval = count_eval + 1 # count the number of ops\n",
    "            if box[b]-p[i] >= 0: # if item p[i] fits in box[b]\n",
    "                box[b] = box[b] - p[i] # put item p[i] in box[b]\n",
    "                i=i+1 # take next item\n",
    "                if i>=len(p): # stop if all items used\n",
    "                    break\n",
    "            else:\n",
    "                break # take next box if item does not fit\n",
    "\n",
    "    if i == len(w) and b <= len(box): # all itmes stored and boxes full or still available\n",
    "        print(\"Solution found\")\n",
    "        print(p)\n",
    "        break\n",
    "        \n",
    "time_end = time.time()\n",
    "print('Time in seconds: ' + str(time_end-time_start))\n",
    "print('Number of operations: ' + str(count_eval))"
   ]
  },
  {
   "cell_type": "code",
   "execution_count": 10,
   "metadata": {},
   "outputs": [
    {
     "name": "stdout",
     "output_type": "stream",
     "text": [
      "1 items 1\n",
      "2 items 2\n",
      "3 items 6\n",
      "4 items 24\n",
      "5 items 120\n",
      "6 items 720\n",
      "7 items 5040\n",
      "8 items 40320\n",
      "9 items 362880\n",
      "10 items 3628800\n"
     ]
    },
    {
     "data": {
      "text/plain": "[<matplotlib.lines.Line2D at 0x133ff82a30>]"
     },
     "execution_count": 10,
     "metadata": {},
     "output_type": "execute_result"
    },
    {
     "data": {
      "text/plain": "<Figure size 432x288 with 1 Axes>",
      "image/png": "[encoded data removed]"
     },
     "metadata": {
      "needs_background": "light"
     },
     "output_type": "display_data"
    }
   ],
   "source": [
    "# import plot function\n",
    "from matplotlib.pyplot import plot\n",
    "\n",
    "# create empty list for number of permutations  \n",
    "Num_perms = []\n",
    "\n",
    "for n in range(1, 11): # ==>> play with the range an see what happens.\n",
    "    item = list(range(n)) # create list with n items\n",
    "    perm = list(permutations(item)) # generate permutations for item list\n",
    "    N = len(perm) # number of permutations\n",
    "    Num_perms.append(N) # add number of permutations to list\n",
    "    print(str(n) + ' items ' +str(N))\n",
    "\n",
    "plot(Num_perms) # plot"
   ]
  },
  {
   "cell_type": "markdown",
   "metadata": {
    "pycharm": {
     "name": "#%% md\n"
    }
   },
   "source": [
    "O(exp(n))"
   ]
  }
 ],
 "metadata": {
  "kernelspec": {
   "display_name": "Python 3",
   "language": "python",
   "name": "python3"
  },
  "language_info": {
   "codemirror_mode": {
    "name": "ipython",
    "version": 3
   },
   "file_extension": ".py",
   "mimetype": "text/x-python",
   "name": "python",
   "nbconvert_exporter": "python",
   "pygments_lexer": "ipython3",
   "version": "3.8.7"
  }
 },
 "nbformat": 4,
 "nbformat_minor": 4
}