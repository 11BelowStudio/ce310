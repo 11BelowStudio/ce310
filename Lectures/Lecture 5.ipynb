{
 "cells": [
  {
   "cell_type": "markdown",
   "metadata": {
    "collapsed": true
   },
   "source": [
    "# exercise 1\n",
    "\n",
    "### fitnesses of a population"
   ]
  },
  {
   "cell_type": "code",
   "execution_count": 17,
   "metadata": {},
   "outputs": [
    {
     "name": "stdout",
     "output_type": "stream",
     "text": [
      "4\n",
      "16\n",
      "100\n",
      "121\n"
     ]
    }
   ],
   "source": [
    "population = [\n",
    "    \"0010\", #2^2 = 4\n",
    "    \"0100\", #4^2 = 16\n",
    "    \"1010\", #10^2 = 100\n",
    "    \"1011\"] #11^2 = 121\n",
    "\n",
    "def dec(chromosome):\n",
    "    dec = 0\n",
    "    chro = chromosome[::-1]\n",
    "    for i in range(len(chromosome)):\n",
    "        if chro[i] == '1':\n",
    "            dec += 2**i\n",
    "    return dec\n",
    "\n",
    "def fitness(chromosome):\n",
    "    return dec(chromosome) ** 2\n",
    "\n",
    "population.sort(key = fitness)\n",
    "    \n",
    "for c in population:\n",
    "    print(fitness(c))"
   ]
  },
  {
   "cell_type": "markdown",
   "metadata": {},
   "source": [
    "### building a mating pool"
   ]
  },
  {
   "cell_type": "code",
   "execution_count": 18,
   "metadata": {},
   "outputs": [
    {
     "name": "stdout",
     "output_type": "stream",
     "text": [
      "241\n",
      "60.25\n",
      "['0010', 0.016597510373443983]\n",
      "['0100', 0.06639004149377593]\n",
      "['1010', 0.4149377593360996]\n",
      "['1011', 0.5020746887966805]\n"
     ]
    }
   ],
   "source": [
    "proportions = []\n",
    "norm_props = []\n",
    "tot_prop = 0\n",
    "for c in population:\n",
    "    f = fitness(c)\n",
    "    proportions.append(f)\n",
    "    tot_prop += f\n",
    "    \n",
    "avg_prop = tot_prop/len(proportions)\n",
    "print(tot_prop)\n",
    "print(avg_prop)\n",
    "\n",
    "matingPool = []\n",
    "\n",
    "for i in range(0, len(proportions)):\n",
    "    proportions[i] = (proportions[i]/tot_prop)\n",
    "    matingPool.append([population[i], proportions[i]])\n",
    "\n",
    "# that's our mating pool chances\n",
    "for m in matingPool:\n",
    "    print(m)"
   ]
  },
  {
   "cell_type": "markdown",
   "metadata": {},
   "source": [
    "### putting the values 0.6, 0.2, 0.1, and 0.8 into the mating pool"
   ]
  },
  {
   "cell_type": "code",
   "execution_count": 19,
   "metadata": {},
   "outputs": [
    {
     "name": "stdout",
     "output_type": "stream",
     "text": [
      "1011\n",
      "1010\n",
      "1010\n",
      "1011\n"
     ]
    }
   ],
   "source": [
    "def matingPoolGenerator(randNum):\n",
    "    chosen = 0\n",
    "    notDone = True\n",
    "    while notDone:\n",
    "        randNum -= proportions[chosen] #matingPool[chosen][1]\n",
    "        if randNum > 0:\n",
    "            chosen += 1\n",
    "        else:\n",
    "            notDone = False\n",
    "    return population[chosen] #matingPool[chosen][0]\n",
    "\n",
    "print(matingPoolGenerator(0.6))\n",
    "print(matingPoolGenerator(0.2))\n",
    "print(matingPoolGenerator(0.1))\n",
    "print(matingPoolGenerator(0.8))"
   ]
  },
  {
   "cell_type": "markdown",
   "metadata": {},
   "source": [
    "# Exercise 2\n",
    "\n",
    "### Rank selection"
   ]
  },
  {
   "cell_type": "code",
   "execution_count": 29,
   "metadata": {},
   "outputs": [
    {
     "name": "stdout",
     "output_type": "stream",
     "text": [
      "['0010', 0.0]\n",
      "['0100', 0.16666666666666669]\n",
      "['1010', 0.33333333333333337]\n",
      "['1011', 0.5]\n"
     ]
    }
   ],
   "source": [
    "a = -(1/6)\n",
    "b = 1/2\n",
    "\n",
    "def rankSelection(pop, a, b):\n",
    "    \n",
    "    #revRanks = []\n",
    "    revRankedPool = []\n",
    "    for i in range(0, len(pop)):\n",
    "        rank = a * i + b\n",
    "        #revRanks.append(rank)\n",
    "        revRankedPool.append([pop[i], rank])\n",
    "    return revRankedPool[::-1]\n",
    "\n",
    "rrPool = rankSelection(population, a, b)\n",
    "\n",
    "for r in rrPool:\n",
    "    print(r)"
   ]
  },
  {
   "cell_type": "code",
   "execution_count": null,
   "metadata": {},
   "outputs": [],
   "source": []
  }
 ],
 "metadata": {
  "kernelspec": {
   "display_name": "Python 3",
   "language": "python",
   "name": "python3"
  },
  "language_info": {
   "codemirror_mode": {
    "name": "ipython",
    "version": 3
   },
   "file_extension": ".py",
   "mimetype": "text/x-python",
   "name": "python",
   "nbconvert_exporter": "python",
   "pygments_lexer": "ipython3",
   "version": "3.8.7"
  }
 },
 "nbformat": 4,
 "nbformat_minor": 1
}
