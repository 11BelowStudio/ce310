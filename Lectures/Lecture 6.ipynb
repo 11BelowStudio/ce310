{
 "cells": [
  {
   "cell_type": "code",
   "execution_count": 14,
   "id": "found-apache",
   "metadata": {},
   "outputs": [
    {
     "name": "stdout",
     "output_type": "stream",
     "text": [
      "['cos', ['sin', ['add', '0', '1.674']]]\n",
      "['cos', ['pdiv', ['sub', '0', '0'], ['cos', '-1']]]\n"
     ]
    }
   ],
   "source": [
    "termSet = ['x','1.674','0','-1','rnd(0,1)']\n",
    "\n",
    "funcSet = [['add',2],['sub',2],['mul',2],['pdiv',2],['sin',1],['cos',1]]\n",
    "\n",
    "import random\n",
    "\n",
    "def chooseElement(prims):\n",
    "    return prims[random.randint(0,len(prims)-1)]\n",
    "\n",
    "def genExpr(funcs, terms, maxD, grow = False):\n",
    "    tLen = len(terms)\n",
    "    if (maxD == 0) or ((grow) and (random.random() < tLen/(tLen + len(funcs)))):\n",
    "        expr = (chooseElement(terms))\n",
    "    else:\n",
    "        func = chooseElement(funcs)\n",
    "        expr = [func[0]]\n",
    "        for i in range(func[1]):\n",
    "            expr.append(genExpr(funcs,terms,maxD-1))\n",
    "    return expr\n",
    "            \n",
    "print(genExpr(funcSet, termSet, 3))\n",
    "\n",
    "print(genExpr(funcSet, termSet, 3, True))"
   ]
  },
  {
   "cell_type": "code",
   "execution_count": 15,
   "id": "honest-crack",
   "metadata": {},
   "outputs": [
    {
     "name": "stdout",
     "output_type": "stream",
     "text": [
      "grow\n",
      "['cos', ['sub', ['add', 'rnd(0,1)', 'x'], ['cos', '-1']]]\n",
      "['mul', ['sin', ['sub', 'rnd(0,1)', 'x']], ['sub', ['mul', '1.674', '0'], ['sub', 'rnd(0,1)', '0']]]\n",
      "1.674\n",
      "['sin', ['sin', ['pdiv', 'rnd(0,1)', 'rnd(0,1)']]]\n",
      "['pdiv', ['pdiv', ['add', '-1', '1.674'], ['cos', '-1']], ['pdiv', ['mul', '0', 'rnd(0,1)'], ['sin', '1.674']]]\n",
      "\n",
      "full\n",
      "['cos', ['mul', ['cos', 'x'], ['sin', '-1']]]\n",
      "['sin', ['pdiv', ['mul', '1.674', 'rnd(0,1)'], ['pdiv', 'rnd(0,1)', '0']]]\n",
      "['mul', ['add', ['sub', 'rnd(0,1)', '-1'], ['cos', 'x']], ['cos', ['mul', 'rnd(0,1)', '0']]]\n",
      "['add', ['pdiv', ['sin', 'x'], ['sin', '-1']], ['mul', ['sub', '-1', '-1'], ['mul', '-1', 'x']]]\n",
      "['pdiv', ['sub', ['mul', '1.674', 'x'], ['cos', '-1']], ['add', ['mul', '0', '1.674'], ['pdiv', 'x', '0']]]\n"
     ]
    }
   ],
   "source": [
    "print(\"grow\")\n",
    "for i in range(5):\n",
    "    print(genExpr(funcSet, termSet, 3, True))\n",
    "\n",
    "print(\"\")\n",
    "print(\"full\")\n",
    "for i in range(5):\n",
    "    print(genExpr(funcSet, termSet, 3))"
   ]
  },
  {
   "cell_type": "code",
   "execution_count": 18,
   "id": "signal-atlantic",
   "metadata": {},
   "outputs": [
    {
     "name": "stdout",
     "output_type": "stream",
     "text": [
      "['cos', ['mul', ['mul', '0', '-1'], ['cos', 'rnd(0,1)']]]\n"
     ]
    },
    {
     "data": {
      "text/plain": [
       "(-7.0, 1.0)"
      ]
     },
     "execution_count": 18,
     "metadata": {},
     "output_type": "execute_result"
    },
    {
     "data": {
      "image/png": "[encoded data removed]",
      "text/plain": [
       "<Figure size 432x288 with 1 Axes>"
      ]
     },
     "metadata": {
      "needs_background": "light"
     },
     "output_type": "display_data"
    }
   ],
   "source": [
    "from matplotlib import pyplot\n",
    "\n",
    "expr = genExpr(funcSet, termSet, 3,  False)\n",
    "\n",
    "print(expr)\n",
    "\n",
    "def rr(expr, x, y, ax, d = 1):\n",
    "    if type(expr) == list:\n",
    "        ax.text(x,y,expr[0])\n",
    "        rr(expr[1],x-5/d, y-1, ax, d*2)\n",
    "        if len(expr) == 3:\n",
    "            rr(expr[2], x+4/d, y-1, ax, d*2)\n",
    "    else:\n",
    "        ax.text(x,y,expr)\n",
    "\n",
    "fix, ax = pyplot.subplots()\n",
    "rr(expr,0,0,ax)\n",
    "ax.set_xlim([-12.5,12.5])\n",
    "ax.set_ylim([-7,1])"
   ]
  },
  {
   "cell_type": "code",
   "execution_count": null,
   "id": "invalid-headquarters",
   "metadata": {},
   "outputs": [],
   "source": []
  }
 ],
 "metadata": {
  "kernelspec": {
   "display_name": "Python 3",
   "language": "python",
   "name": "python3"
  },
  "language_info": {
   "codemirror_mode": {
    "name": "ipython",
    "version": 3
   },
   "file_extension": ".py",
   "mimetype": "text/x-python",
   "name": "python",
   "nbconvert_exporter": "python",
   "pygments_lexer": "ipython3",
   "version": "3.8.7"
  }
 },
 "nbformat": 4,
 "nbformat_minor": 5
}
