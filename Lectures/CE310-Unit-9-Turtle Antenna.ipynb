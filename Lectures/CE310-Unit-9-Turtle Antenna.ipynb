{
 "cells": [
  {
   "cell_type": "markdown",
   "metadata": {},
   "source": [
    "#### Genetic Programming: Antenna design with Turtle Graphics\n",
    "CE310 Evolutionary Computation and Genetic Programming<br>\n",
    "Reinhold Scherer, Spring 2021, Unit 9"
   ]
  },
  {
   "cell_type": "code",
   "execution_count": 1,
   "metadata": {},
   "outputs": [],
   "source": [
    "import turtle \n",
    "\n",
    "antenna = turtle.Turtle()\n",
    "    \n",
    "    \n",
    "def segment(where,len,angle):\n",
    "    antenna.up()\n",
    "    antenna.home()\n",
    "    antenna.forward(where)\n",
    "    antenna.down()\n",
    "    antenna.left(angle)\n",
    "    antenna.forward(len)\n",
    "    antenna.up()\n",
    "    antenna.home()\n",
    "    antenna.forward(where)\n",
    "    antenna.down()\n",
    "    antenna.right(angle)\n",
    "    antenna.forward(len)\n",
    "\n",
    "antenna.forward(300)\n",
    "segment(0,100,90)\n",
    "segment(40,110,90)\n",
    "segment(100,100,90)\n",
    "segment(130,100,45)\n",
    "segment(250,50,90)\n",
    "segment(270,30,90)\n",
    "\n",
    "antenna.up()\n",
    "antenna.home()\n",
    "\n",
    "turtle.done()\n"
   ]
  }
 ],
 "metadata": {
  "kernelspec": {
   "display_name": "Python 3",
   "language": "python",
   "name": "python3"
  },
  "language_info": {
   "codemirror_mode": {
    "name": "ipython",
    "version": 3
   },
   "file_extension": ".py",
   "mimetype": "text/x-python",
   "name": "python",
   "nbconvert_exporter": "python",
   "pygments_lexer": "ipython3",
   "version": "3.8.7"
  }
 },
 "nbformat": 4,
 "nbformat_minor": 4
}