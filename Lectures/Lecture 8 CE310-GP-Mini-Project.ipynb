{
 "cells": [
  {
   "cell_type": "markdown",
   "metadata": {
    "colab_type": "text",
    "id": "HizTRMV1Aul9"
   },
   "source": [
    "### CE310 Spring 2019/20: Genetic Programming and Symbolic Regression\n",
    "## Assignment: Programming Assignment and mini project Part 2 (of 2) – Mini project\n",
    "\n",
    "For information on on symbolic regression see: \n",
    "https://en.wikipedia.org/wiki/Symbolic_regression"
   ]
  },
  {
   "cell_type": "code",
   "execution_count": 1,
   "metadata": {
    "colab": {},
    "colab_type": "code",
    "id": "o9F9WnKa_vql"
   },
   "outputs": [],
   "source": [
    "# Install DEAP toolbox\n",
    "# https://deap.readthedocs.io/en/master/index.html\n",
    "\n",
    "# Anaconda:\n",
    "# easy_install deap\n",
    "\n",
    "# Google Colab:\n",
    "# !pip install deap"
   ]
  },
  {
   "cell_type": "code",
   "execution_count": 2,
   "metadata": {
    "colab": {},
    "colab_type": "code",
    "id": "DVSVIpw1I_Rj"
   },
   "outputs": [],
   "source": [
    "# Import relevant Python modules\n",
    "import operator\n",
    "import math\n",
    "import random\n",
    "import numpy  as np\n",
    "from matplotlib import pyplot\n",
    "\n",
    "# Import DEAP modules\n",
    "from deap import algorithms\n",
    "from deap import base\n",
    "from deap import creator\n",
    "from deap import tools\n",
    "from deap import gp"
   ]
  },
  {
   "cell_type": "code",
   "execution_count": 3,
   "metadata": {
    "colab": {},
    "colab_type": "code",
    "id": "c0xjSP7JvMZa"
   },
   "outputs": [
    {
     "data": {
      "image/png": "[encoded data removed]",
      "text/plain": [
       "<Figure size 1080x288 with 1 Axes>"
      ]
     },
     "metadata": {
      "needs_background": "light"
     },
     "output_type": "display_data"
    }
   ],
   "source": [
    "# ====================================================================\n",
    "# PARAMETERS - change the parameters in this section\n",
    "# Population size: 500 vs 2000\n",
    "# Tournament Size: 2 vs 5\n",
    "# repeat at least 10 times per setting\n",
    "\n",
    "no_generations = 50   # number of generations\n",
    "no_population = 2000   # population size\n",
    "no_tournaments =  5   # tournament size\n",
    "\n",
    "# other parameters that you can change and explore\n",
    "p_xo = 0.7  # XO rate\n",
    "p_m  = 0.3  # Mutation rate\n",
    "UseSqError = True # use Least Squares approach \n",
    "\n",
    "# ====================================================================\n",
    "# Define your Problems/Target Functions and create sample data\n",
    "# Assume you make measurments at specific test points:\n",
    "\n",
    "test_points = np.linspace(-math.pi,math.pi, 65).tolist()\n",
    "measurement = lambda x: x**2+x-7+3*math.sin(1*math.pi*x)\n",
    "\n",
    "# ====================================================================\n",
    "\n",
    "target = np.empty(len(test_points))\n",
    "for i in range(len(test_points)): target[i] = measurement(test_points[i])\n",
    "\n",
    "fig, ax = pyplot.subplots(figsize=(15,4))\n",
    "ax.scatter(test_points, target)\n",
    "ax.set_xlabel('Test points')\n",
    "ax.set_ylabel('Measurements')\n",
    "ax.set_title('Data set')\n",
    "pyplot.show()\n",
    "\n",
    "# GP Goal: evolve a function f(x) (mathematical expression or model) with \n",
    "# x=test_points that best fits a target dataset"
   ]
  },
  {
   "cell_type": "code",
   "execution_count": 4,
   "metadata": {
    "colab": {},
    "colab_type": "code",
    "id": "c0xjSP7JvMZa"
   },
   "outputs": [
    {
     "name": "stdout",
     "output_type": "stream",
     "text": [
      "   \t      \t                                  fitness                                  \t                          size                         \n",
      "   \t      \t---------------------------------------------------------------------------\t-------------------------------------------------------\n",
      "gen\tnevals\tavg        \tgen\tmax        \tmdn    \tmin    \tnevals\tstd        \tavg   \tgen\tmax\tmdn\tmin\tnevals\tstd    \n",
      "0  \t2000  \t4.61538e+41\t0  \t1.53846e+43\t35.5613\t16.0727\t2000  \t2.62442e+42\t3.5325\t0  \t7  \t3  \t2  \t2000  \t1.50131\n",
      "1  \t1586  \t6.84615e+41\t1  \t1.53846e+43\t29.8059\t13.4982\t1586  \t3.17236e+42\t3.9325\t1  \t13 \t3  \t1  \t1586  \t1.86974\n",
      "2  \t1586  \t6e+41      \t2  \t1.53846e+43\t25.2494\t13.4982\t1586  \t2.97838e+42\t4.262 \t2  \t17 \t3  \t1  \t1586  \t2.13526\n",
      "3  \t1562  \t6.38462e+41\t3  \t1.53846e+43\t22.2035\t13.4982\t1562  \t3.06836e+42\t4.8325\t3  \t19 \t5  \t1  \t1562  \t2.45386\n",
      "4  \t1528  \t8.07692e+41\t4  \t1.53846e+43\t20.942 \t12.489 \t1528  \t3.43128e+42\t5.7275\t4  \t21 \t5  \t1  \t1528  \t2.75812\n",
      "5  \t1551  \t6.76923e+41\t5  \t1.53846e+43\t20.2874\t10.2436\t1551  \t3.15531e+42\t6.635 \t5  \t25 \t6  \t1  \t1551  \t3.11156\n",
      "6  \t1576  \t6.07692e+41\t6  \t1.53846e+43\t20.2874\t10.2436\t1576  \t2.99664e+42\t7.3805\t6  \t23 \t7  \t1  \t1576  \t3.28812\n",
      "7  \t1592  \t6.07692e+41\t7  \t1.53846e+43\t18.7274\t10.2436\t1592  \t2.99664e+42\t8.3115\t7  \t23 \t8  \t1  \t1592  \t3.57428\n",
      "8  \t1535  \t6.84615e+41\t8  \t1.53846e+43\t18.0621\t8.74033\t1535  \t3.17236e+42\t9.2025\t8  \t26 \t9  \t1  \t1535  \t3.69912\n",
      "9  \t1563  \t6.23077e+41\t9  \t1.53846e+43\t17.3449\t7.64441\t1563  \t3.03275e+42\t10.126\t9  \t28 \t10 \t1  \t1563  \t3.99952\n",
      "10 \t1622  \t5.69231e+41\t10 \t1.53846e+43\t16.8314\t7.64304\t1622  \t2.90403e+42\t10.9495\t10 \t38 \t11 \t1  \t1622  \t4.45825\n",
      "11 \t1581  \t7.46154e+41\t11 \t1.53846e+43\t16.0727\t7.05957\t1581  \t3.30493e+42\t11.959 \t11 \t32 \t11 \t1  \t1581  \t4.74429\n",
      "12 \t1553  \t7.23077e+41\t12 \t1.53846e+43\t15.1128\t5.7237 \t1553  \t3.25598e+42\t13.398 \t12 \t42 \t13 \t1  \t1553  \t5.72805\n",
      "13 \t1581  \t6.76923e+41\t13 \t1.53846e+43\t14.5577\t5.47586\t1581  \t3.15531e+42\t15.1635\t13 \t52 \t14 \t1  \t1581  \t6.61436\n",
      "14 \t1599  \t5.76923e+41\t14 \t1.53846e+43\t13.6008\t3.33594\t1599  \t2.92282e+42\t17.698 \t14 \t57 \t17 \t1  \t1599  \t7.8908 \n",
      "15 \t1531  \t6e+41      \t15 \t1.53846e+43\t12.1028\t3.33594\t1531  \t2.97838e+42\t20.8155\t15 \t67 \t20 \t1  \t1531  \t9.26442\n",
      "16 \t1586  \t7.07692e+41\t16 \t1.53846e+43\t10.6761\t3.33594\t1586  \t3.22285e+42\t24.618 \t16 \t72 \t23 \t1  \t1586  \t10.9012\n",
      "17 \t1574  \t5.84615e+41\t17 \t1.53846e+43\t10.0513\t3.33594\t1574  \t2.94148e+42\t28.132 \t17 \t82 \t27 \t1  \t1574  \t12.5049\n",
      "18 \t1585  \t7.61538e+41\t18 \t1.53846e+43\t9.43397\t3.40514\t1585  \t3.33707e+42\t31.527 \t18 \t97 \t30 \t1  \t1585  \t13.6173\n",
      "19 \t1589  \t6.53846e+41\t19 \t1.53846e+43\t8.8463 \t3.08823\t1589  \t3.10349e+42\t34.575 \t19 \t90 \t33 \t1  \t1589  \t14.3474\n",
      "20 \t1593  \t5.61538e+41\t20 \t1.53846e+43\t8.15581\t3.19607\t1593  \t2.88509e+42\t36.679 \t20 \t126\t34 \t1  \t1593  \t16.1282\n",
      "21 \t1564  \t5.23077e+41\t21 \t1.53846e+43\t7.58917\t3.11464\t1564  \t2.78814e+42\t38.1095\t21 \t128\t35 \t1  \t1564  \t17.0729\n",
      "22 \t1611  \t4.92308e+41\t22 \t1.53846e+43\t7.06002\t3.11473\t1611  \t2.70769e+42\t39.7575\t22 \t142\t36 \t1  \t1611  \t18.0884\n",
      "23 \t1570  \t5.46154e+41\t23 \t1.53846e+43\t6.9229 \t2.57066\t1570  \t2.84677e+42\t41.727 \t23 \t150\t38 \t1  \t1570  \t18.9702\n",
      "24 \t1594  \t6.61538e+41\t24 \t1.53846e+43\t6.53806\t2.46763\t1594  \t3.12088e+42\t44.388 \t24 \t133\t41 \t1  \t1594  \t19.882 \n",
      "25 \t1605  \t7.07692e+41\t25 \t1.53846e+43\t5.76002\t2.4859 \t1605  \t3.22285e+42\t47.583 \t25 \t129\t46 \t1  \t1605  \t20.6295\n",
      "26 \t1550  \t4.61538e+41\t26 \t1.53846e+43\t5.28759\t2.14401\t1550  \t2.62442e+42\t49.829 \t26 \t171\t47 \t1  \t1550  \t21.7494\n",
      "27 \t1559  \t5.61538e+41\t27 \t1.53846e+43\t5.02357\t2.14401\t1559  \t2.88509e+42\t52.613 \t27 \t181\t49 \t1  \t1559  \t24.4985\n",
      "28 \t1570  \t5.53846e+41\t28 \t1.53846e+43\t4.78768\t2.01875\t1570  \t2.866e+42  \t56.627 \t28 \t181\t51 \t1  \t1570  \t26.3868\n",
      "29 \t1625  \t6.23077e+41\t29 \t1.53846e+43\t4.65995\t2.01111\t1625  \t3.03275e+42\t61.665 \t29 \t219\t55 \t1  \t1625  \t28.0637\n",
      "30 \t1580  \t6e+41      \t30 \t1.53846e+43\t4.05591\t1.99374\t1580  \t2.97838e+42\t66.7095\t30 \t192\t60 \t3  \t1580  \t28.4976\n",
      "31 \t1566  \t4.84615e+41\t31 \t1.53846e+43\t3.71876\t1.99373\t1566  \t2.68715e+42\t70.6015\t31 \t197\t65 \t1  \t1566  \t29.9019\n",
      "32 \t1574  \t5.84615e+41\t32 \t1.53846e+43\t3.57446\t1.25164\t1574  \t2.94148e+42\t73.1685\t32 \t229\t66 \t2  \t1574  \t31.7594\n",
      "33 \t1555  \t4.15385e+41\t33 \t1.53846e+43\t3.36397\t0.877032\t1555  \t2.49359e+42\t71.401 \t33 \t242\t62 \t1  \t1555  \t32.5525\n",
      "34 \t1567  \t4.61538e+41\t34 \t1.53846e+43\t3.20893\t0.877032\t1567  \t2.62442e+42\t69.098 \t34 \t223\t61 \t1  \t1567  \t29.2709\n",
      "35 \t1572  \t4.07692e+41\t35 \t1.53846e+43\t3.04195\t0.735133\t1572  \t2.47103e+42\t68.592 \t35 \t222\t62 \t1  \t1572  \t28.07  \n",
      "36 \t1632  \t6e+41      \t36 \t1.53846e+43\t3.03473\t0.762747\t1632  \t2.97838e+42\t71.4065\t36 \t241\t66 \t1  \t1632  \t27.9656\n",
      "37 \t1543  \t5.23077e+41\t37 \t1.53846e+43\t2.48597\t0.725372\t1543  \t2.78814e+42\t76.1125\t37 \t220\t70 \t1  \t1543  \t31.4237\n",
      "38 \t1574  \t7.92308e+41\t38 \t1.53846e+43\t2.31184\t0.694729\t1574  \t3.40023e+42\t86.776 \t38 \t270\t80 \t1  \t1574  \t37.8894\n",
      "39 \t1603  \t7.07692e+41\t39 \t1.53846e+43\t2.22386\t0.678456\t1603  \t3.22285e+42\t98.182 \t39 \t264\t90 \t1  \t1603  \t42.1265\n",
      "40 \t1569  \t6.15385e+41\t40 \t1.53846e+43\t2.10176\t0.688542\t1569  \t3.01476e+42\t104.624\t40 \t387\t96 \t1  \t1569  \t43.741 \n",
      "41 \t1587  \t5.07692e+41\t41 \t1.53846e+43\t1.97389\t0.399543\t1587  \t2.74825e+42\t105.031\t41 \t397\t96 \t1  \t1587  \t40.7429\n",
      "42 \t1589  \t5e+41      \t42 \t1.53846e+43\t1.6867 \t0.397028\t1589  \t2.72806e+42\t106.266\t42 \t397\t98 \t3  \t1589  \t42.5196\n",
      "43 \t1587  \t5.92308e+41\t43 \t1.53846e+43\t1.13696\t0.326954\t1587  \t2.96e+42   \t112.041\t43 \t431\t102\t1  \t1587  \t44.756 \n",
      "44 \t1608  \t4.76923e+41\t44 \t1.53846e+43\t0.955041\t0.326954\t1608  \t2.66643e+42\t115.529\t44 \t387\t107\t1  \t1608  \t47.4932\n",
      "45 \t1585  \t5.84615e+41\t45 \t1.53846e+43\t0.833064\t0.326954\t1585  \t2.94148e+42\t121.175\t45 \t346\t114\t2  \t1585  \t48.6767\n",
      "46 \t1582  \t6.46154e+41\t46 \t1.53846e+43\t0.785202\t0.319376\t1582  \t3.08599e+42\t126.492\t46 \t395\t122\t3  \t1582  \t49.7634\n",
      "47 \t1603  \t6.76923e+41\t47 \t1.53846e+43\t0.769676\t0.326697\t1603  \t3.15531e+42\t131.593\t47 \t399\t127\t1  \t1603  \t49.4094\n",
      "48 \t1552  \t6e+41      \t48 \t1.53846e+43\t0.727097\t0.128547\t1552  \t2.97838e+42\t134.474\t48 \t368\t128\t1  \t1552  \t45.4391\n",
      "49 \t1582  \t5.61538e+41\t49 \t1.53846e+43\t0.666276\t0.128547\t1582  \t2.88509e+42\t135.308\t49 \t368\t128\t1  \t1582  \t47.5116\n",
      "50 \t1572  \t5.38462e+41\t50 \t1.53846e+43\t0.639877\t0.0862481\t1572  \t2.82738e+42\t134.829\t50 \t371\t129\t1  \t1572  \t48.767 \n"
     ]
    }
   ],
   "source": [
    "# Define new functions\n",
    "def protectedDiv(left, right):\n",
    "    return left / right if right else 1    \n",
    "    \n",
    "# create Primitive set & classes \n",
    "if \"pset\" not in globals():\n",
    "    pset = gp.PrimitiveSet(\"MAIN\", 1)\n",
    "    pset.addPrimitive(operator.add, 2)\n",
    "    pset.addPrimitive(operator.sub, 2)\n",
    "    pset.addPrimitive(operator.mul, 2)\n",
    "    pset.addPrimitive(protectedDiv, 2)\n",
    "    pset.addPrimitive(operator.neg, 1)\n",
    "    pset.addPrimitive(math.cos, 1)\n",
    "    pset.addPrimitive(math.sin, 1)\n",
    "    pset.addTerminal(1)\n",
    "    pset.addTerminal(-1)    \n",
    "    pset.addEphemeralConstant(\"rand101\", lambda: random.randint(-1,1))\n",
    "    pset.renameArguments(ARG0='x')\n",
    "\n",
    "    creator.create(\"FitnessMin\", base.Fitness, weights=(-1.0,))\n",
    "    creator.create(\"Individual\", gp.PrimitiveTree, fitness=creator.FitnessMin)\n",
    "    \n",
    "toolbox = base.Toolbox()\n",
    "toolbox.register(\"expr\", gp.genHalfAndHalf, pset=pset, min_=1, max_=2)\n",
    "toolbox.register(\"individual\", tools.initIterate, creator.Individual, toolbox.expr)\n",
    "toolbox.register(\"population\", tools.initRepeat, list, toolbox.individual)\n",
    "toolbox.register(\"compile\", gp.compile, pset=pset)\n",
    "\n",
    "max_size = 30\n",
    "\n",
    "def avg_size(pop):\n",
    "    size = 0\n",
    "    for p in pop:\n",
    "        size += len(p)\n",
    "    return size/len(pop)\n",
    "\n",
    "p_tarp = 0.1\n",
    "\n",
    "def evalSymbReg(individual):\n",
    "    # Transform the tree expression in a callable function\n",
    "    func = toolbox.compile(expr=individual)\n",
    "    \n",
    "    # max size\n",
    "    #if len(individual) > max_size:\n",
    "    #    error = [1000000000000000000000000000000000000000000000]\n",
    "    #else:\n",
    "      # squared error\n",
    "    # parsimony pressure\n",
    "    #error = (abs(func(x) - measurement(x))**2 for x in test_points)\n",
    "    #error = math.fsum(error)/len(test_points) + 0.01 * len(individual)\n",
    "    #return error\n",
    "    \n",
    "    # tarpetian\n",
    "    if (len(individual) > avg_size(pop)) and (random.random() < p_tarp):\n",
    "        error = [1000000000000000000000000000000000000000000000]\n",
    "    else:\n",
    "        error = (abs(func(x) - measurement(x))**2 for x in test_points)\n",
    "    \n",
    "    return math.fsum(error)/len(test_points),\n",
    "\n",
    "\n",
    "toolbox.register(\"evaluate\", evalSymbReg)\n",
    "toolbox.register(\"select\", tools.selTournament, tournsize=no_tournaments)\n",
    "toolbox.register(\"mate\", gp.cxOnePoint)\n",
    "toolbox.register(\"expr_mut\", gp.genFull, min_=0, max_=2)\n",
    "toolbox.register(\"mutate\", gp.mutUniform, expr=toolbox.expr_mut, pset=pset)\n",
    "\n",
    "toolbox.decorate(\"mate\", gp.staticLimit(key=operator.attrgetter(\"height\"), max_value=64))\n",
    "toolbox.decorate(\"mutate\", gp.staticLimit(key=operator.attrgetter(\"height\"), max_value=64))\n",
    "\n",
    "random.seed()\n",
    "\n",
    "pop = toolbox.population(n=no_population)\n",
    "hof = tools.HallOfFame(1)\n",
    "\n",
    "stats_fit = tools.Statistics(lambda ind: ind.fitness.values)\n",
    "stats_size = tools.Statistics(len)\n",
    "mstats = tools.MultiStatistics(fitness=stats_fit, size=stats_size)\n",
    "mstats.register(\"mdn\", np.median)\n",
    "mstats.register(\"avg\", np.mean)\n",
    "mstats.register(\"std\", np.std)\n",
    "mstats.register(\"min\", np.min)\n",
    "mstats.register(\"max\", np.max)\n",
    "\n",
    "pop, log = algorithms.eaSimple(pop, toolbox, p_xo, p_m, no_generations, stats=mstats,\n",
    "                                       halloffame=hof, verbose=True)"
   ]
  },
  {
   "cell_type": "code",
   "execution_count": 5,
   "metadata": {
    "colab": {},
    "colab_type": "code",
    "id": "q2nJXeYRwSaI"
   },
   "outputs": [
    {
     "name": "stdout",
     "output_type": "stream",
     "text": [
      "Fitnes: [0.6398766071441306, 35.561311783165465]\n",
      "Size: [3.0, 129.0]\n",
      "Evaluations: 80903\n"
     ]
    },
    {
     "data": {
      "image/png": "[encoded data removed]",
      "text/plain": [
       "<Figure size 432x288 with 1 Axes>"
      ]
     },
     "metadata": {
      "needs_background": "light"
     },
     "output_type": "display_data"
    }
   ],
   "source": [
    "# Plot Fitness and Size\n",
    "x = np.arange(0, no_generations+1)\n",
    "s = log.chapters['size'].select(\"mdn\")\n",
    "f = log.chapters['fitness'].select(\"mdn\")\n",
    "\n",
    "fig, ax = pyplot.subplots()\n",
    "ax.plot(x, f/max(f), 'k--', label='Fitness')\n",
    "ax.plot(x, s/max(s), 'k:', label='Size')\n",
    "ax.set_xlabel('Generations')\n",
    "ax.set_ylabel('Normalised Fitness/Size')\n",
    "ax.set_title('Median')\n",
    "legend = ax.legend(shadow=True, fontsize='x-large')\n",
    "print('Fitnes: [' + str(min(f))+', '+str(max(f))+']')\n",
    "print('Size: [' + str(min(s))+', '+str(max(s))+']')\n",
    "print('Evaluations: ' +str(sum(log.select(\"nevals\"))))\n",
    "\n",
    "pyplot.show()"
   ]
  },
  {
   "cell_type": "code",
   "execution_count": 6,
   "metadata": {
    "colab": {},
    "colab_type": "code",
    "id": "jDB45dBcyp1z"
   },
   "outputs": [
    {
     "name": "stdout",
     "output_type": "stream",
     "text": [
      "sub(add(add(-1, cos(add(x, sub(add(add(-1, add(x, mul(x, 0))), neg(neg(x))), cos(sin(-1)))))), add(sub(-1, 1), sub(add(add(sub(add(mul(x, x), mul(1, add(-1, cos(add(x, sub(add(add(-1, add(x, mul(1, 0))), neg(neg(x))), cos(neg(mul(1, -1))))))))), 1), add(-1, cos(add(x, sub(add(add(-1, add(x, mul(x, cos(1)))), neg(neg(x))), cos(1)))))), x), cos(mul(protectedDiv(1, -1), protectedDiv(-1, -1)))))), cos(-1))\n"
     ]
    }
   ],
   "source": [
    "# Best individual \n",
    "print(hof[0])"
   ]
  },
  {
   "cell_type": "code",
   "execution_count": 7,
   "metadata": {
    "colab": {},
    "colab_type": "code",
    "id": "EqJkD3E-ytRU"
   },
   "outputs": [
    {
     "data": {
      "image/png": "[encoded data removed]",
      "text/plain": [
       "<Figure size 432x288 with 1 Axes>"
      ]
     },
     "metadata": {
      "needs_background": "light"
     },
     "output_type": "display_data"
    }
   ],
   "source": [
    "# Plot comparison Tagret vs. evolved solution\n",
    "\n",
    "x = test_points\n",
    "f = toolbox.compile(expr=hof[0])\n",
    "\n",
    "y = np.empty(len(x))\n",
    "for i in range(len(x)): y[i] = f(x[i])\n",
    "\n",
    "fig, ax = pyplot.subplots()\n",
    "ax.plot(x, y, 'r-', label='Best Solution')\n",
    "ax.plot(x, target, 'k-', label='Target func')\n",
    "#legend = ax.legend(loc='upper center', shadow=True, fontsize='x-large')\n",
    "legend = ax.legend(shadow=True, fontsize='x-large')\n",
    "\n",
    "pyplot.show()"
   ]
  },
  {
   "cell_type": "code",
   "execution_count": null,
   "metadata": {},
   "outputs": [],
   "source": []
  }
 ],
 "metadata": {
  "colab": {
   "authorship_tag": "ABX9TyPSWyc/4FOtz4KgzSbcD+Am",
   "collapsed_sections": [],
   "name": "CE310 Mini Project (2019-20).ipynb",
   "provenance": []
  },
  "kernelspec": {
   "display_name": "Python 3",
   "language": "python",
   "name": "python3"
  },
  "language_info": {
   "codemirror_mode": {
    "name": "ipython",
    "version": 3
   },
   "file_extension": ".py",
   "mimetype": "text/x-python",
   "name": "python",
   "nbconvert_exporter": "python",
   "pygments_lexer": "ipython3",
   "version": "3.8.7"
  }
 },
 "nbformat": 4,
 "nbformat_minor": 4
}
